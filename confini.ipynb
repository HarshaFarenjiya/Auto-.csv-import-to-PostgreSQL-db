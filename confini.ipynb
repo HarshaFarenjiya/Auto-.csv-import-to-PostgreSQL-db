{
 "cells": [
  {
   "cell_type": "code",
   "execution_count": 2,
   "id": "cfee734d-1d6b-4c9d-aede-8441dbba8280",
   "metadata": {},
   "outputs": [],
   "source": [
    "import configparser\n",
    "\n",
    "config = configparser.ConfigParser()\n",
    "\n",
    "config['postgresql'] = {\n",
    "    'username': 'postgres',\n",
    "    'password': '1111',\n",
    "    'host': 'localhost',\n",
    "    'dbname': 'postgres'\n",
    "}\n",
    "\n",
    "with open('h_config.ini', 'w') as config_file:\n",
    "    config.write(config_file)"
   ]
  },
  {
   "cell_type": "code",
   "execution_count": null,
   "id": "8a08c143-3eaf-474c-93b0-893605557bc0",
   "metadata": {},
   "outputs": [],
   "source": []
  }
 ],
 "metadata": {
  "kernelspec": {
   "display_name": "Python 3 (ipykernel)",
   "language": "python",
   "name": "python3"
  },
  "language_info": {
   "codemirror_mode": {
    "name": "ipython",
    "version": 3
   },
   "file_extension": ".py",
   "mimetype": "text/x-python",
   "name": "python",
   "nbconvert_exporter": "python",
   "pygments_lexer": "ipython3",
   "version": "3.11.4"
  }
 },
 "nbformat": 4,
 "nbformat_minor": 5
}
